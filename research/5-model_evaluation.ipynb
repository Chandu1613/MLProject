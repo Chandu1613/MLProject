{
 "cells": [
  {
   "cell_type": "code",
   "execution_count": 1,
   "metadata": {},
   "outputs": [],
   "source": [
    "import os\n",
    "import pickle\n",
    "import pandas as pd\n",
    "import numpy as np\n",
    "import mlflow\n",
    "import dagshub\n",
    "from sklearn.metrics import mean_squared_error, mean_absolute_error, r2_score\n",
    "import matplotlib.pyplot as plt\n",
    "import seaborn as sns"
   ]
  },
  {
   "cell_type": "code",
   "execution_count": 2,
   "metadata": {},
   "outputs": [
    {
     "data": {
      "text/html": [
       "<pre style=\"white-space:pre;overflow-x:auto;line-height:normal;font-family:Menlo,'DejaVu Sans Mono',consolas,'Courier New',monospace\">Accessing as Chandu1613\n",
       "</pre>\n"
      ],
      "text/plain": [
       "Accessing as Chandu1613\n"
      ]
     },
     "metadata": {},
     "output_type": "display_data"
    },
    {
     "data": {
      "text/html": [
       "<pre style=\"white-space:pre;overflow-x:auto;line-height:normal;font-family:Menlo,'DejaVu Sans Mono',consolas,'Courier New',monospace\">Initialized MLflow to track repo <span style=\"color: #008000; text-decoration-color: #008000\">\"chandu1613/MLProject\"</span>\n",
       "</pre>\n"
      ],
      "text/plain": [
       "Initialized MLflow to track repo \u001b[32m\"chandu1613/MLProject\"\u001b[0m\n"
      ]
     },
     "metadata": {},
     "output_type": "display_data"
    },
    {
     "data": {
      "text/html": [
       "<pre style=\"white-space:pre;overflow-x:auto;line-height:normal;font-family:Menlo,'DejaVu Sans Mono',consolas,'Courier New',monospace\">Repository chandu1613/MLProject initialized!\n",
       "</pre>\n"
      ],
      "text/plain": [
       "Repository chandu1613/MLProject initialized!\n"
      ]
     },
     "metadata": {},
     "output_type": "display_data"
    }
   ],
   "source": [
    "dagshub.init(repo_owner='chandu1613',\n",
    "             repo_name='MLProject',\n",
    "             mlflow=True)"
   ]
  },
  {
   "cell_type": "code",
   "execution_count": 3,
   "metadata": {},
   "outputs": [],
   "source": [
    "os.environ[\"MLFLOW_TRACKING_USERNAME\"] = \"Chandu1613\"\n",
    "os.environ[\"MLFLOW_TRACKING_PASSWORD\"] = \"6656b403fc3d6206838ca3affb4b3b2b84d84b8a\""
   ]
  },
  {
   "cell_type": "code",
   "execution_count": 4,
   "metadata": {},
   "outputs": [],
   "source": [
    "mlflow.set_tracking_uri(\"https://dagshub.com/Chandu1613/MLProject.mlflow\")"
   ]
  },
  {
   "cell_type": "code",
   "execution_count": 5,
   "metadata": {},
   "outputs": [
    {
     "name": "stderr",
     "output_type": "stream",
     "text": [
      "2025/03/12 23:23:47 INFO mlflow.tracking.fluent: Experiment with name 'Wine_Prediction_Evaluation' does not exist. Creating a new experiment.\n"
     ]
    },
    {
     "data": {
      "text/plain": [
       "<Experiment: artifact_location='mlflow-artifacts:/935d2bd6f5df4d5c844f31f11b5690b1', creation_time=1741802028140, experiment_id='1', last_update_time=1741802028140, lifecycle_stage='active', name='Wine_Prediction_Evaluation', tags={}>"
      ]
     },
     "execution_count": 5,
     "metadata": {},
     "output_type": "execute_result"
    }
   ],
   "source": [
    "mlflow.set_experiment(\"Wine_Prediction_Evaluation\")"
   ]
  },
  {
   "cell_type": "code",
   "execution_count": 7,
   "metadata": {},
   "outputs": [],
   "source": [
    "os.chdir(\"../\")"
   ]
  },
  {
   "cell_type": "code",
   "execution_count": 12,
   "metadata": {},
   "outputs": [
    {
     "data": {
      "text/plain": [
       "'c:\\\\Users\\\\jagad\\\\OneDrive\\\\Desktop\\\\MLP'"
      ]
     },
     "execution_count": 12,
     "metadata": {},
     "output_type": "execute_result"
    }
   ],
   "source": [
    "pwd"
   ]
  },
  {
   "cell_type": "code",
   "execution_count": 10,
   "metadata": {},
   "outputs": [],
   "source": [
    "def load_model_and_scaler(model_path, scaler_path):\n",
    "    \"\"\"\n",
    "    Load the saved model and scaler from pickle files.\n",
    "    \n",
    "    Args:\n",
    "        model_path (str): Path to the saved model pickle file.\n",
    "        scaler_path (str): Path to the saved scaler pickle file.\n",
    "    \n",
    "    Returns:\n",
    "        model: Loaded model.\n",
    "        scaler: Loaded scaler.\n",
    "    \"\"\"\n",
    "    with open(model_path, \"rb\") as f:\n",
    "        model = pickle.load(f)\n",
    "    with open(scaler_path, \"rb\") as f:\n",
    "        scaler = pickle.load(f)\n",
    "    return model, scaler"
   ]
  },
  {
   "cell_type": "code",
   "execution_count": 13,
   "metadata": {},
   "outputs": [
    {
     "name": "stdout",
     "output_type": "stream",
     "text": [
      "Model and scaler loaded successfully!\n"
     ]
    }
   ],
   "source": [
    "model, scaler = load_model_and_scaler(\"models/trainedModel.pkl\", \"models/scaler.pkl\")\n",
    "print(\"Model and scaler loaded successfully!\")"
   ]
  },
  {
   "cell_type": "code",
   "execution_count": 15,
   "metadata": {},
   "outputs": [
    {
     "name": "stdout",
     "output_type": "stream",
     "text": [
      "Test data loaded successfully!\n",
      "Test data shape: (340, 11)\n"
     ]
    }
   ],
   "source": [
    "test_data = pd.read_csv(\"artifacts/test.csv\")  # Update the path to your test data\n",
    "X_test = test_data.drop('quality', axis=1)\n",
    "y_test = test_data['quality']\n",
    "\n",
    "print(\"Test data loaded successfully!\")\n",
    "print(f\"Test data shape: {X_test.shape}\")"
   ]
  },
  {
   "cell_type": "code",
   "execution_count": 16,
   "metadata": {},
   "outputs": [
    {
     "name": "stdout",
     "output_type": "stream",
     "text": [
      "Test data scaled successfully!\n"
     ]
    }
   ],
   "source": [
    "X_test_scaled = scaler.transform(X_test)\n",
    "print(\"Test data scaled successfully!\")"
   ]
  },
  {
   "cell_type": "code",
   "execution_count": 18,
   "metadata": {},
   "outputs": [],
   "source": [
    "import warnings\n",
    "warnings.filterwarnings(\"ignore\", category=UserWarning)"
   ]
  },
  {
   "cell_type": "code",
   "execution_count": 19,
   "metadata": {},
   "outputs": [
    {
     "name": "stdout",
     "output_type": "stream",
     "text": [
      "Predictions made successfully!\n"
     ]
    }
   ],
   "source": [
    "y_pred = model.predict(X_test_scaled)\n",
    "print(\"Predictions made successfully!\")"
   ]
  },
  {
   "cell_type": "code",
   "execution_count": 20,
   "metadata": {},
   "outputs": [
    {
     "name": "stdout",
     "output_type": "stream",
     "text": [
      "MSE: 0.6818\n",
      "MAE: 0.6973\n",
      "R²: -0.0972\n"
     ]
    }
   ],
   "source": [
    "mse = mean_squared_error(y_test, y_pred)\n",
    "mae = mean_absolute_error(y_test, y_pred)\n",
    "r2 = r2_score(y_test, y_pred)\n",
    "\n",
    "print(f\"MSE: {mse:.4f}\")\n",
    "print(f\"MAE: {mae:.4f}\")\n",
    "print(f\"R²: {r2:.4f}\")"
   ]
  },
  {
   "cell_type": "code",
   "execution_count": 21,
   "metadata": {},
   "outputs": [
    {
     "name": "stdout",
     "output_type": "stream",
     "text": [
      "🏃 View run flawless-gull-386 at: https://dagshub.com/Chandu1613/MLProject.mlflow/#/experiments/1/runs/bd1112ceba474008908f02d407700720\n",
      "🧪 View experiment at: https://dagshub.com/Chandu1613/MLProject.mlflow/#/experiments/1\n",
      "Metrics and artifacts logged to MLflow successfully!\n"
     ]
    },
    {
     "data": {
      "image/png": "[encoded data removed]",
      "text/plain": [
       "<Figure size 800x600 with 1 Axes>"
      ]
     },
     "metadata": {},
     "output_type": "display_data"
    },
    {
     "data": {
      "image/png": "[encoded data removed]",
      "text/plain": [
       "<Figure size 800x600 with 1 Axes>"
      ]
     },
     "metadata": {},
     "output_type": "display_data"
    }
   ],
   "source": [
    "with mlflow.start_run():\n",
    "    # Log metrics\n",
    "    mlflow.log_metric(\"MSE\", mse)\n",
    "    mlflow.log_metric(\"MAE\", mae)\n",
    "    mlflow.log_metric(\"R2\", r2)\n",
    "\n",
    "    # Log predictions as a CSV file\n",
    "    predictions_df = pd.DataFrame({\"Actual\": y_test, \"Predicted\": y_pred})\n",
    "    predictions_df.to_csv(\"predictions.csv\", index=False)\n",
    "    mlflow.log_artifact(\"predictions.csv\")\n",
    "\n",
    "    # Log visualizations\n",
    "    # Actual vs Predicted Plot\n",
    "    plt.figure(figsize=(8, 6))\n",
    "    sns.scatterplot(x=y_test, y=y_pred)\n",
    "    plt.xlabel(\"Actual Values\")\n",
    "    plt.ylabel(\"Predicted Values\")\n",
    "    plt.title(\"Actual vs Predicted\")\n",
    "    plt.plot([y_test.min(), y_test.max()], [y_test.min(), y_test.max()], 'r--')  # Diagonal line\n",
    "    plt.savefig(\"actual_vs_predicted.png\")\n",
    "    mlflow.log_artifact(\"actual_vs_predicted.png\")\n",
    "\n",
    "    # Residuals Distribution Plot\n",
    "    residuals = y_test - y_pred\n",
    "    plt.figure(figsize=(8, 6))\n",
    "    sns.histplot(residuals, kde=True)\n",
    "    plt.xlabel(\"Residuals\")\n",
    "    plt.title(\"Residuals Distribution\")\n",
    "    plt.savefig(\"residuals_distribution.png\")\n",
    "    mlflow.log_artifact(\"residuals_distribution.png\")\n",
    "\n",
    "print(\"Metrics and artifacts logged to MLflow successfully!\")"
   ]
  },
  {
   "cell_type": "code",
   "execution_count": 22,
   "metadata": {},
   "outputs": [
    {
     "name": "stdout",
     "output_type": "stream",
     "text": [
      "\n",
      "Sample Predictions:\n",
      "   Actual  Predicted\n",
      "0     7.5   5.418969\n",
      "1     6.0   5.418969\n",
      "2     5.0   5.418969\n",
      "3     5.0   5.418969\n",
      "4     5.0   5.418969\n"
     ]
    }
   ],
   "source": [
    "print(\"\\nSample Predictions:\")\n",
    "print(predictions_df.head())"
   ]
  },
  {
   "cell_type": "code",
   "execution_count": 23,
   "metadata": {},
   "outputs": [
    {
     "name": "stdout",
     "output_type": "stream",
     "text": [
      "\n",
      "Evaluation Metrics:\n",
      "MSE: 0.6818\n",
      "MAE: 0.6973\n",
      "R²: -0.0972\n"
     ]
    }
   ],
   "source": [
    "print(\"\\nEvaluation Metrics:\")\n",
    "print(f\"MSE: {mse:.4f}\")\n",
    "print(f\"MAE: {mae:.4f}\")\n",
    "print(f\"R²: {r2:.4f}\")"
   ]
  }
 ],
 "metadata": {
  "kernelspec": {
   "display_name": "Wine",
   "language": "python",
   "name": "python3"
  },
  "language_info": {
   "codemirror_mode": {
    "name": "ipython",
    "version": 3
   },
   "file_extension": ".py",
   "mimetype": "text/x-python",
   "name": "python",
   "nbconvert_exporter": "python",
   "pygments_lexer": "ipython3",
   "version": "3.13.0"
  }
 },
 "nbformat": 4,
 "nbformat_minor": 2
}
