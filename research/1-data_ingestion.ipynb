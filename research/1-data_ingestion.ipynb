{
 "cells": [
  {
   "cell_type": "code",
   "execution_count": null,
   "metadata": {},
   "outputs": [],
   "source": [
    "# https://raw.githubusercontent.com/Chandu1613/MLProject/refs/heads/main/datasets/winequality-red.csv"
   ]
  },
  {
   "cell_type": "code",
   "execution_count": 1,
   "metadata": {},
   "outputs": [],
   "source": [
    "import os"
   ]
  },
  {
   "cell_type": "code",
   "execution_count": 2,
   "metadata": {},
   "outputs": [
    {
     "data": {
      "text/plain": [
       "'c:\\\\Users\\\\jagad\\\\OneDrive\\\\Desktop\\\\MLP\\\\research'"
      ]
     },
     "execution_count": 2,
     "metadata": {},
     "output_type": "execute_result"
    }
   ],
   "source": [
    "%pwd"
   ]
  },
  {
   "cell_type": "code",
   "execution_count": 3,
   "metadata": {},
   "outputs": [],
   "source": [
    "os.chdir(\"../\")"
   ]
  },
  {
   "cell_type": "code",
   "execution_count": 4,
   "metadata": {},
   "outputs": [
    {
     "data": {
      "text/plain": [
       "'c:\\\\Users\\\\jagad\\\\OneDrive\\\\Desktop\\\\MLP'"
      ]
     },
     "execution_count": 4,
     "metadata": {},
     "output_type": "execute_result"
    }
   ],
   "source": [
    "%pwd"
   ]
  },
  {
   "cell_type": "code",
   "execution_count": 5,
   "metadata": {},
   "outputs": [],
   "source": [
    "import pandas as pd\n",
    "import zipfile\n",
    "from src.logs import log_message"
   ]
  },
  {
   "cell_type": "code",
   "execution_count": null,
   "metadata": {},
   "outputs": [],
   "source": [
    "log_message(\"Loading dataset...\")\n",
    "df = pd.read_csv('https://raw.githubusercontent.com/Chandu1613/MLProject/refs/heads/main/datasets/winequality-red.csv')\n",
    "df.to_csv(\"artifacts/ingested_data.csv\", index=False)"
   ]
  },
  {
   "cell_type": "code",
   "execution_count": null,
   "metadata": {},
   "outputs": [
    {
     "name": "stdout",
     "output_type": "stream",
     "text": [
      "   fixed acidity  volatile acidity  citric acid  residual sugar  chlorides  \\\n",
      "0            7.4              0.70         0.00             1.9      0.076   \n",
      "1            7.8              0.88         0.00             2.6      0.098   \n",
      "2            7.8              0.76         0.04             2.3      0.092   \n",
      "3           11.2              0.28         0.56             1.9      0.075   \n",
      "4            7.4              0.70         0.00             1.9      0.076   \n",
      "\n",
      "   free sulfur dioxide  total sulfur dioxide  density    pH  sulphates  \\\n",
      "0                 11.0                  34.0   0.9978  3.51       0.56   \n",
      "1                 25.0                  67.0   0.9968  3.20       0.68   \n",
      "2                 15.0                  54.0   0.9970  3.26       0.65   \n",
      "3                 17.0                  60.0   0.9980  3.16       0.58   \n",
      "4                 11.0                  34.0   0.9978  3.51       0.56   \n",
      "\n",
      "   alcohol  quality  \n",
      "0      9.4        5  \n",
      "1      9.8        5  \n",
      "2      9.8        5  \n",
      "3      9.8        6  \n",
      "4      9.4        5  \n"
     ]
    }
   ],
   "source": [
    "def load_data(file_path):\n",
    "    log_message(\"Loading dataset...\")\n",
    "\n",
    "    unzip_path = \"datasets/extracted_winequality\"\n",
    "    os.makedirs(unzip_path, exist_ok=True)  \n",
    "\n",
    "    with zipfile.ZipFile(file_path, \"r\") as zip_ref:\n",
    "        zip_ref.extractall(unzip_path)\n",
    "\n",
    "    extracted_folder = os.path.join(unzip_path, \"winequality\")\n",
    "\n",
    "    if not os.path.exists(extracted_folder):\n",
    "        raise FileNotFoundError(f\"Expected folder 'winequality' not found in {unzip_path}\")\n",
    "\n",
    "    csv_files = [f for f in os.listdir(extracted_folder) if f.endswith(\".csv\")]\n",
    "\n",
    "    if not csv_files:\n",
    "        raise ValueError(\"No CSV file found inside the extracted 'winequality' folder.\")\n",
    "\n",
    "    csv_file_path = os.path.join(extracted_folder, csv_files[0])\n",
    "\n",
    "    log_message(f\"Reading CSV file: {csv_file_path}\")\n",
    "\n",
    "    df = pd.read_csv(csv_file_path)\n",
    "\n",
    "    os.makedirs(\"artifacts\", exist_ok=True)\n",
    "    df.to_csv(\"artifacts/ingested_data.csv\", index=False)\n",
    "\n",
    "    return df\n",
    "\n",
    "df = load_data('datasets/winequality.zip')\n",
    "print(df.head())\n"
   ]
  }
 ],
 "metadata": {
  "kernelspec": {
   "display_name": "Wine",
   "language": "python",
   "name": "python3"
  },
  "language_info": {
   "codemirror_mode": {
    "name": "ipython",
    "version": 3
   },
   "file_extension": ".py",
   "mimetype": "text/x-python",
   "name": "python",
   "nbconvert_exporter": "python",
   "pygments_lexer": "ipython3",
   "version": "3.13.0"
  }
 },
 "nbformat": 4,
 "nbformat_minor": 2
}
